{
 "cells": [
  {
   "cell_type": "markdown",
   "metadata": {},
   "source": [
    "<a href=\"#section1\">1. Data/Variables preprocessing</a>\n",
    "\n",
    "<a href=\"#section2\">2. Image Visualization (RGB Bands) </a><br>\n",
    "<a href=\"#section2.1\" style=\"margin-left:20px\">2.1. Full Image (26159x796) </a><br>\n",
    "<a href=\"#section2.2\" style=\"margin-left:20px\">2.2. ROI (285x76) </a><br>\n",
    "<a href=\"#section2.3\" style=\"margin-left:20px\">2.3. Ground Truth (285x76) </a><br>\n",
    "\n",
    "<a href=\"#section3\">3. Linear Matched Filter Detector (MFD) </a><br>\n",
    "<a href=\"#section3.1\" style=\"margin-left:20px\">3.1. Data/Variables preprocessing</a><br>\n",
    "<a href=\"#section3.2\" style=\"margin-left:20px\">3.2. MFD Model Prediction</a>\n",
    "\n",
    "<a href=\"#section4\">4. Kernel Spectral Matched Filter (KSMF) </a><br>\n",
    "<a href=\"#section4.1\" style=\"margin-left:20px\">4.1. Data/Variables preprocessing</a><br>\n",
    "<a href=\"#section4.2\" style=\"margin-left:20px\">4.2. Gaussian Kernel Model Prediction</a><br>\n",
    "<a href=\"#section4.3\" style=\"margin-left:20px\">4.3. Polynomial Kernel Model Prediction</a><br>\n",
    "<a href=\"#section4.4\" style=\"margin-left:20px\">4.4. Spectral Angle Kernel Model Prediction</a>\n",
    "\n",
    "<a href=\"#section5\">5. ROC curve </a><br>"
   ]
  },
  {
   "cell_type": "markdown",
   "metadata": {},
   "source": [
    "   I am going to implement the paper - \"Kernel Spectral Matched Filter for Hyperspectral Imagery\"\n",
    "\n",
    "https://link.springer.com/article/10.1007/s11263-006-6689-3",
    "\n",
    "### we implement & check variation of eqn 7 (MFD), eqn 27 (KSMF) with some background clustering tricks"
   ]
  },
  {
   "cell_type": "code",
   "execution_count": 1,
   "metadata": {},
   "outputs": [],
   "source": [
    "import spectral.io.envi as envi\n",
    "from spectral import *\n",
    "import numpy as np\n",
    "from sklearn.cluster import KMeans\n",
    "import random\n",
    "import copy\n",
    "from sklearn.cluster import KMeans\n",
    "from PIL import Image\n",
    "from matplotlib import pyplot as plt\n",
    "from sklearn.metrics import roc_curve"
   ]
  },
  {
   "cell_type": "markdown",
   "metadata": {},
   "source": [
    "<a id=\"section1\"></a>\n",
    "# 1. Data/Variables preprocessing"
   ]
  },
  {
   "cell_type": "code",
   "execution_count": 17,
   "metadata": {},
   "outputs": [
    {
     "name": "stdout",
     "output_type": "stream",
     "text": [
      "(26159, 796, 224)\n",
      "ROI Shape: (76, 285, 224)\n",
      "GT_RGB  Shape: (76, 285, 3)\n"
     ]
    }
   ],
   "source": [
    "# read hdr specs file and hdr file\n",
    "img = envi.open('./data/Reflect_f100517out.hdr', './data/Reflect_f100517out')\n",
    "print(img.shape)\n",
    "\n",
    "# for KSMF kernel we can try arbitrary number of clusters/centroids for background pixels for different data\n",
    "# used for implementation of a variant of eqn 27 of KSMF as given in paper for K^ ^ R^ calculation\n",
    "num_clusters_KSMF = 200 # it can be anything but generally something between 200-300 works best\n",
    "\n",
    "# as eqn 7 of paper didn't work well, so I tried something dfferent for covariance/correlation matrix\n",
    "# for MFD keep num_clusters same as number of spectral bands \n",
    "# for dot product & matrix multiplication shape matching in Line 12 sec 3.2 below for y calculation (eqn 7)\n",
    "num_clusters_MFD = 224 # because our hdr file has 224 spectral bands\n",
    "\n",
    "# wavelength: Red ~ 669, Green ~ 549, Blue ~ 474 \n",
    "# selected resp. spectral band index from hdr file (Reflect_f100517out.hdr) with closest wavelength matching\n",
    "rgb_bands = (32, 20, 12)\n",
    "\n",
    "# an orange pixel (oil spill) which is considered target pixel\n",
    "# an orange pixel is selected at spatial index [11461, 353, :] from Full Image - RGB Channels (sec 2.1) below\n",
    "target_spectrum = img[11461, 353, :].reshape(1, -1) # shape [1, 224] 224 spectral bands\n",
    "\n",
    "\n",
    "# Manually selected an ROI around the ornage target pixel\n",
    "ROI = img[11420:11496,100:385, :] # bigger ROI with one ship too\n",
    "# ROI = img[11430:11485,300:385, :] # using smaller ROI for faster marix inversion later\n",
    "print(\"ROI Shape:\", ROI.shape)\n",
    "\n",
    "\n",
    "# Ground truth - same spatial dimensions as ROI but only 3 spectral channels/bands for RGB visualization\n",
    "GT_RGB = np.zeros((ROI.shape[0], ROI.shape[1], 3)) # initialize with black pixels\n",
    "for i in range(GT_RGB.shape[0]):\n",
    "    for j in range(GT_RGB.shape[1]):\n",
    "        pixel_spectrum = ROI[i,j,:].reshape(1, -1)\n",
    "        \n",
    "        # e.g. current pixel's spectrum values euclidean distance from target_spectrum\n",
    "        taregt_pixel_distance = np.sqrt(np.sum(target_spectrum - pixel_spectrum)**2)\n",
    "        \n",
    "        if taregt_pixel_distance <= 5: # can try other values\n",
    "            GT_RGB[i,j,:] = 1 # white \n",
    "\n",
    "print(\"GT_RGB  Shape:\", GT_RGB.shape)        "
   ]
  },
  {
   "cell_type": "markdown",
   "metadata": {},
   "source": [
    "<a id=\"section2\"></a>\n",
    "# 2. Image Visualization (RGB Spectral Bands)"
   ]
  },
  {
   "cell_type": "markdown",
   "metadata": {},
   "source": [
    "<a id=\"section2.1\"></a>\n",
    "## 2.1. Full Image - RGB Channels (26159 x 796)"
   ]
  },
  {
   "cell_type": "code",
   "execution_count": 4,
   "metadata": {},
   "outputs": [
    {
     "name": "stdout",
     "output_type": "stream",
     "text": [
      "(26159, 796, 3)\n"
     ]
    }
   ],
   "source": [
    "# read the rgb bands of image for visualization\n",
    "img_rgb = img[:,:,rgb_bands]\n",
    "print(img_rgb.shape)\n",
    "\n",
    "# image size too big to be visualized here, so save for visualization separately\n",
    "full_img = np.rint(img_rgb*255) # round off, integers between 0 - 255\n",
    "full_img = Image.fromarray(full_img.astype(np.uint8))\n",
    "full_img.save(\"./pics/Full_img_RGB_Bands_\" + str(rgb_bands) + \".png\")"
   ]
  },
  {
   "cell_type": "markdown",
   "metadata": {},
   "source": [
    "<a id=\"section2.2\"></a>\n",
    "## 2.2. ROI - RGB Channels (285 x 76)"
   ]
  },
  {
   "cell_type": "code",
   "execution_count": 3,
   "metadata": {},
   "outputs": [
    {
     "name": "stdout",
     "output_type": "stream",
     "text": [
      "ROI_RGB Shape: (76, 285, 3)\n"
     ]
    },
    {
     "data": {
      "image/png": "[encoded data removed]",
      "text/plain": [
       "<Figure size 432x288 with 1 Axes>"
      ]
     },
     "metadata": {
      "needs_background": "light"
     },
     "output_type": "display_data"
    }
   ],
   "source": [
    "ROI_RGB = ROI[:, :, rgb_bands]\n",
    "print(\"ROI_RGB Shape:\", ROI_RGB.shape)\n",
    "\n",
    "plt.imshow(ROI_RGB)\n",
    "plt.title(\"ROI_RGB\")\n",
    "plt.savefig(\"./pics/ROI_RGB.png\")"
   ]
  },
  {
   "cell_type": "markdown",
   "metadata": {},
   "source": [
    "<a id=\"section2.3\"></a>\n",
    "## 2.3. Ground Truth - RGB Channels (285 x 76)"
   ]
  },
  {
   "cell_type": "code",
   "execution_count": 4,
   "metadata": {},
   "outputs": [
    {
     "name": "stdout",
     "output_type": "stream",
     "text": [
      "GT_RGB Shape: (76, 285, 3)\n"
     ]
    },
    {
     "data": {
      "image/png": "[encoded data removed]",
      "text/plain": [
       "<Figure size 432x288 with 1 Axes>"
      ]
     },
     "metadata": {
      "needs_background": "light"
     },
     "output_type": "display_data"
    }
   ],
   "source": [
    "print(\"GT_RGB Shape:\", GT_RGB.shape)\n",
    "\n",
    "plt.imshow(GT_RGB)\n",
    "plt.title(\"Ground Truth RGB\")\n",
    "plt.savefig(\"./pics/GT_RGB.png\")"
   ]
  },
  {
   "cell_type": "markdown",
   "metadata": {},
   "source": [
    "<a id=\"section3\"></a>\n",
    "# 3. MFD"
   ]
  },
  {
   "cell_type": "markdown",
   "metadata": {},
   "source": [
    "<a id=\"section3.1\"></a>\n",
    "## 3.1. Data/Variables Pre-processing"
   ]
  },
  {
   "cell_type": "code",
   "execution_count": 6,
   "metadata": {},
   "outputs": [
    {
     "name": "stdout",
     "output_type": "stream",
     "text": [
      "X Shape: (21660, 224)\n",
      "Background Pixels Shape: (21655, 224)\n",
      "Centroids Shape: (224, 224)\n",
      "Mean Background Shape: (1, 224)\n",
      "Background Covariance Shape: (224, 224)\n",
      "Background Covariance Inverse Shape: (224, 224)\n"
     ]
    }
   ],
   "source": [
    "# read the (285*76=21660 pixels)\n",
    "X = []\n",
    "for i in range(ROI.shape[0]):\n",
    "    for j in range(ROI.shape[1]):\n",
    "        X.append(ROI[i,j,:])\n",
    "\n",
    "# shape should be [21660 pixels, 224 spectral bands] or [ROI.shape[0]*ROI.shape[1], ROI.shape[2]]\n",
    "X = np.array(X) # eqn 2 in paper\n",
    "print(\"X Shape:\", X.shape)\n",
    "\n",
    "### using R_hat_inv didn't gave good results so using the inv_covariance_background method below \n",
    "# X = X.T         # shape [j, N] where j is number of spectral bands, N is total number of spatial pixels\n",
    "# R_hat = X.dot(X.T)\n",
    "# R_hat /= X.shape[1] # R_hat = (1/N)*X*X.T\n",
    "# print(\"R_hat Shape:\", R_hat.shape)\n",
    "# R_hat_inv = np.linalg.pinv(R_hat)\n",
    "# print(\"R_hat_inv Shape:\", R_hat_inv.shape)\n",
    "###\n",
    "\n",
    "# k_means clustering of background pixels\n",
    "background_pixels = []\n",
    "for i in range(ROI.shape[0]):\n",
    "    for j in range(ROI.shape[1]):\n",
    "        current_pixel_spectrum = ROI[i, j, :].reshape(-1,1)\n",
    "        \n",
    "        # eucleadean distance betwwen current spectral band and taregt spectrum band of the orange pixel\n",
    "        target_distance = np.sqrt(np.sum(current_pixel_spectrum - target_spectrum)**2)\n",
    "        \n",
    "        if target_distance > 5: # we used threshold of 5 in sec 1\n",
    "            background_pixels.append(current_pixel_spectrum)\n",
    "\n",
    "background_pixels = np.array(background_pixels)\n",
    "background_pixels = background_pixels.reshape(background_pixels.shape[0], background_pixels.shape[1])\n",
    "print(\"Background Pixels Shape:\", background_pixels.shape)\n",
    "\n",
    "kmeans = KMeans(n_clusters=num_clusters_MFD, random_state=0).fit(background_pixels)\n",
    "centroids = kmeans.cluster_centers_\n",
    "print(\"Centroids Shape:\", centroids.shape)\n",
    "\n",
    "mean_background = np.mean(centroids, axis=0)\n",
    "mean_background = mean_background.reshape(1,-1)\n",
    "print(\"Mean Background Shape:\", mean_background.shape)\n",
    "\n",
    "covariance_background = np.cov(centroids)\n",
    "print(\"Background Covariance Shape:\", covariance_background.shape)\n",
    "\n",
    "# use pseudo inverse if normal inverse matrix doesn't exist\n",
    "inv_covariance_background = np.linalg.inv(covariance_background) # normal matrix inverse\n",
    "# inv_covariance_background = np.linalg.pinv(covariance_background) # pesudo inverse\n",
    "\n",
    "print(\"Background Covariance Inverse Shape:\", inv_covariance_background.shape)"
   ]
  },
  {
   "cell_type": "markdown",
   "metadata": {},
   "source": [
    "<a id=\"section3.2\"></a>\n",
    "## 3.2. MFD Model Prediction"
   ]
  },
  {
   "cell_type": "code",
   "execution_count": 7,
   "metadata": {},
   "outputs": [
    {
     "data": {
      "image/png": "[encoded data removed]",
      "text/plain": [
       "<Figure size 432x288 with 1 Axes>"
      ]
     },
     "metadata": {
      "needs_background": "light"
     },
     "output_type": "display_data"
    }
   ],
   "source": [
    "predictions_MFD = np.zeros((ROI.shape[0],ROI.shape[1],3))\n",
    "y_MFD = []\n",
    "\n",
    "for i in range(ROI.shape[0]):\n",
    "    for j in range(ROI.shape[1]):\n",
    "        current_pixel_spectrum = ROI[i,j,:].reshape(1, -1)\n",
    "        \n",
    "        x1 = target_spectrum - mean_background\n",
    "        x2 = current_pixel_spectrum - mean_background\n",
    "        \n",
    "#         y = (((x1).dot(R_hat_inv)).dot(x2.T))/(((x1).dot(R_hat_inv)).dot(x1.T)) # eqn 7 of paper\n",
    "        y = (((x1).dot(inv_covariance_background)).dot(x2.T))/(((x1).dot(inv_covariance_background)).dot(x1.T))\n",
    "        \n",
    "        y = y[0][0] # y is an array so extract value\n",
    "        \n",
    "        y_MFD.append(y)\n",
    "        \n",
    "        if y > .8: # using this threshold value (.8) after trying various other values\n",
    "            predictions_MFD[i,j,:] = 1\n",
    "            \n",
    "plt.imshow(predictions_MFD)\n",
    "plt.title(\"MFD (Linear Matched Filter Detector)\")\n",
    "plt.savefig(\"./pics/MFD.png\")"
   ]
  },
  {
   "cell_type": "markdown",
   "metadata": {},
   "source": [
    "<a id=\"section4\"></a>\n",
    "# 4. KSMF"
   ]
  },
  {
   "cell_type": "markdown",
   "metadata": {},
   "source": [
    "<a id=\"section4.1\"></a>\n",
    "## 4.1. Data/Variables Pre-processing"
   ]
  },
  {
   "cell_type": "code",
   "execution_count": 18,
   "metadata": {},
   "outputs": [
    {
     "name": "stdout",
     "output_type": "stream",
     "text": [
      "X Shape: (21660, 224)\n",
      "Background Pixels Shape: (21655, 224)\n",
      "Centroids Shape: (200, 224)\n"
     ]
    }
   ],
   "source": [
    "# read the (285*76=21660 pixels)\n",
    "X = []\n",
    "for i in range(ROI.shape[0]):\n",
    "    for j in range(ROI.shape[1]):\n",
    "        X.append(ROI[i,j,:])       \n",
    "# shape should be [21660 pixels, 224 spectral bands] or [ROI.shape[0]*ROI.shape[1], ROI.shape[2]]\n",
    "X = np.array(X) # eqn 2 in paper\n",
    "print(\"X Shape:\", X.shape)\n",
    "\n",
    "# k_means clustering of background pixels\n",
    "background_pixels = []\n",
    "for i in range(ROI.shape[0]):\n",
    "    for j in range(ROI.shape[1]):\n",
    "        current_pixel_spectrum = ROI[i, j, :].reshape(-1,1)\n",
    "        \n",
    "        # eucleadean distance betwwen current spectral band and taregt spectrum band of the orange pixel\n",
    "        target_distance = np.sqrt(np.sum(current_pixel_spectrum - target_spectrum)**2)\n",
    "        \n",
    "        if target_distance > 5: # we used threshold of 5 in sec 1\n",
    "            background_pixels.append(current_pixel_spectrum)\n",
    "\n",
    "background_pixels = np.array(background_pixels)\n",
    "background_pixels = background_pixels.reshape(background_pixels.shape[0], background_pixels.shape[1])\n",
    "print(\"Background Pixels Shape:\", background_pixels.shape)\n",
    "\n",
    "kmeans = KMeans(n_clusters=num_clusters_KSMF, random_state=0).fit(background_pixels)\n",
    "centroids = kmeans.cluster_centers_\n",
    "print(\"Centroids Shape:\", centroids.shape)"
   ]
  },
  {
   "cell_type": "markdown",
   "metadata": {},
   "source": [
    "<a id=\"section4.2\"></a>\n",
    "## 4.2. KSMF - Gaussian Kernel"
   ]
  },
  {
   "cell_type": "code",
   "execution_count": 19,
   "metadata": {},
   "outputs": [
    {
     "name": "stdout",
     "output_type": "stream",
     "text": [
      "Kernel Matrix Shape: (200, 200)\n",
      "K_inv2 Shape (200, 200)\n",
      "k_s Shape: (1, 200)\n"
     ]
    },
    {
     "data": {
      "image/png": "[encoded data removed]",
      "text/plain": [
       "<Figure size 432x288 with 1 Axes>"
      ]
     },
     "metadata": {
      "needs_background": "light"
     },
     "output_type": "display_data"
    }
   ],
   "source": [
    "c= 30 # width of Gaussian RBF kernel, to be determined\n",
    "\n",
    "#Gaussian_Radial Basis Function (GRBF)\n",
    "def k_GRBF(x, y):                     \n",
    "    norm= np.linalg.norm(x - y)\n",
    "    return np.exp(-1*norm*norm/c)\n",
    "\n",
    "# Kernel/Gram Matrix\n",
    "K = np.zeros((centroids.shape[0], centroids.shape[0])) # K(X,X) the gram matrix\n",
    "for i in range(K.shape[0]):\n",
    "    for j in range(K.shape[1]):\n",
    "        K[i,j] = k_GRBF(centroids[i,:].reshape(1,-1), centroids[j,:].reshape(1,-1))\n",
    "print(\"Kernel Matrix Shape:\", K.shape)\n",
    "\n",
    "K_inv = np.linalg.pinv(K) # calculating pseudo inverse as normal inverse gave errors\n",
    "K_inv2 = K_inv**2 # K^-2 that's to be used in eqn 27 of paper\n",
    "print(\"K_inv2 Shape\", K_inv2.shape)\n",
    "\n",
    "# function to calculate k_s or k_r or function (psi(s)*X.T) or (psi(r)*X.T) in eqn 24 & eqn 25 of [a[er]]\n",
    "def ks_kr(spectrum_value):\n",
    "    k = []\n",
    "    for i in range(centroids.shape[0]):\n",
    "        k_ = k_GRBF(spectrum_value, centroids[i].reshape(1,-1))\n",
    "        k.append(k_)\n",
    "    \n",
    "    k = np.array(k).reshape(1,-1)\n",
    "    return k\n",
    "\n",
    "k_s = ks_kr(target_spectrum) # eqn 24\n",
    "print(\"k_s Shape:\", k_s.shape)\n",
    "\n",
    "# get the predictions. keeping it in RGB channel format for easy visulatization as Ground Truth RGB file\n",
    "predictions_gaussian = np.zeros((ROI.shape[0],ROI.shape[1],3))\n",
    "y_gaussian = []\n",
    "\n",
    "for i in range(ROI.shape[0]):\n",
    "    for j in range(ROI.shape[1]):\n",
    "        current_pixel_spectrum = ROI[i,j,:].reshape(1, -1)\n",
    "        k_r = ks_kr(ROI[i,j,:].reshape(1, -1)) # eqn 25 of paper\n",
    "        \n",
    "        y = ((k_s.dot(K_inv2)).dot(k_r.T))/((k_s.dot(K_inv2)).dot(k_s.T))       \n",
    "        y = y[0][0]\n",
    "        \n",
    "        y_gaussian.append(y)\n",
    "\n",
    "        if y <= 1.2 :  # using this threshold value (1.2) after trying various other values\n",
    "            predictions_gaussian[i,j,:] = 1\n",
    "            \n",
    "plt.imshow(predictions_gaussian)\n",
    "plt.title(\"Kernsel Spectral Matched Filter (Gaussian)\")\n",
    "plt.savefig(\"./pics/KSMF_Gaussian.png\")"
   ]
  },
  {
   "cell_type": "markdown",
   "metadata": {},
   "source": [
    "<a id=\"section4.3\"></a>\n",
    "## 4.3. KSMF - Polynomial Kernel"
   ]
  },
  {
   "cell_type": "code",
   "execution_count": 20,
   "metadata": {},
   "outputs": [
    {
     "name": "stdout",
     "output_type": "stream",
     "text": [
      "Kernel Matrix Shape: (200, 200)\n",
      "K_inv2 Shape (200, 200)\n",
      "k_s Shape: (1, 200)\n"
     ]
    },
    {
     "data": {
      "image/png": "[encoded data removed]",
      "text/plain": [
       "<Figure size 432x288 with 1 Axes>"
      ]
     },
     "metadata": {
      "needs_background": "light"
     },
     "output_type": "display_data"
    }
   ],
   "source": [
    "d= 5 #power parameter of polynomial kernel, tbd\n",
    "theta= 1 #constant term for polynomial kernel, tbd\n",
    "\n",
    "#Polynomial Kernel.\n",
    "def k_poly(x,y):                        \n",
    "    return np.power(np.dot(x,y.T)+theta, d)\n",
    "\n",
    "# Kernel/Gram Matrix\n",
    "K = np.zeros((centroids.shape[0], centroids.shape[0])) # K(X,X) the gram matrix\n",
    "for i in range(K.shape[0]):\n",
    "    for j in range(K.shape[1]):\n",
    "        K[i,j] = k_poly(centroids[i,:].reshape(1,-1), centroids[j,:].reshape(1,-1))\n",
    "print(\"Kernel Matrix Shape:\", K.shape)\n",
    "\n",
    "K_inv = np.linalg.pinv(K) # calculating pseudo inverse as normal inverse gave errors\n",
    "K_inv2 = K_inv**2 # K^-2 that's to be used in eqn 27 of paper\n",
    "print(\"K_inv2 Shape\", K_inv2.shape)\n",
    "\n",
    "# function to calculate k_s or k_r or function (psi(s)*X.T) or (psi(r)*X.T) in eqn 24 & eqn 25 of [a[er]]\n",
    "def ks_kr(spectrum_value):\n",
    "    k = []\n",
    "    for i in range(centroids.shape[0]):\n",
    "        k_ = k_poly(spectrum_value, centroids[i].reshape(1,-1))\n",
    "        k.append(k_)\n",
    "    \n",
    "    k = np.array(k).reshape(1,-1)\n",
    "    return k\n",
    "\n",
    "k_s = ks_kr(target_spectrum) # eqn 24\n",
    "print(\"k_s Shape:\", k_s.shape)\n",
    "\n",
    "# get the predictions. keeping it in RGB channel format for easy visulatization as Ground Truth RGB file\n",
    "predictions_poly = np.zeros((ROI.shape[0],ROI.shape[1],3))\n",
    "y_poly = []\n",
    "\n",
    "for i in range(ROI.shape[0]):\n",
    "    for j in range(ROI.shape[1]):\n",
    "        current_pixel_spectrum = ROI[i,j,:].reshape(1, -1)\n",
    "        k_r = ks_kr(ROI[i,j,:].reshape(1, -1)) # eqn 25 of paper\n",
    "        \n",
    "        y = ((k_s.dot(K_inv2)).dot(k_r.T))/((k_s.dot(K_inv2)).dot(k_s.T))       \n",
    "        y = y[0][0]\n",
    "        \n",
    "        y_poly.append(y)\n",
    "        \n",
    "        if y > .5 : # using this threshold value (.5) after trying various other values\n",
    "            predictions_poly[i,j,:] = 1\n",
    "            \n",
    "plt.imshow(predictions_poly)\n",
    "plt.title(\"Kernsel Spectral Matched Filter (Polynomial)\")\n",
    "plt.savefig(\"./pics/KSMF_Polynomial.png\")"
   ]
  },
  {
   "cell_type": "markdown",
   "metadata": {},
   "source": [
    "<a id=\"section4.4\"></a>\n",
    "## 4.4. KSMF - Spectral Angle Kernel"
   ]
  },
  {
   "cell_type": "code",
   "execution_count": 21,
   "metadata": {},
   "outputs": [
    {
     "name": "stdout",
     "output_type": "stream",
     "text": [
      "Kernel Matrix Shape: (200, 200)\n",
      "K_inv2 Shape (200, 200)\n",
      "k_s Shape: (1, 200)\n"
     ]
    },
    {
     "data": {
      "image/png": "[encoded data removed]",
      "text/plain": [
       "<Figure size 432x288 with 1 Axes>"
      ]
     },
     "metadata": {
      "needs_background": "light"
     },
     "output_type": "display_data"
    }
   ],
   "source": [
    "#Spectral angle_based kernel.\n",
    "def k_spectral_angle_based(x, y):        \n",
    "    norm_x= np.linalg.norm(x)\n",
    "    norm_y= np.linalg.norm(y)\n",
    "    dot= x.dot(y.T)\n",
    "    return dot/(norm_x*norm_y)\n",
    "\n",
    "\n",
    "# Kernel/Gram Matrix\n",
    "K = np.zeros((centroids.shape[0], centroids.shape[0])) # K(X,X) the gram matrix\n",
    "for i in range(K.shape[0]):\n",
    "    for j in range(K.shape[1]):\n",
    "        K[i,j] = k_spectral_angle_based(centroids[i,:].reshape(1,-1), centroids[j,:].reshape(1,-1))\n",
    "print(\"Kernel Matrix Shape:\", K.shape)\n",
    "\n",
    "K_inv = np.linalg.pinv(K) # calculating pseudo inverse as normal inverse gave errors\n",
    "K_inv2 = K_inv**2 # K^-2 that's to be used in eqn 27 of paper\n",
    "print(\"K_inv2 Shape\", K_inv2.shape)\n",
    "\n",
    "# function to calculate k_s or k_r or function (psi(s)*X.T) or (psi(r)*X.T) in eqn 24 & eqn 25 of [a[er]]\n",
    "def ks_kr(spectrum_value):\n",
    "    k = []\n",
    "    for i in range(centroids.shape[0]):\n",
    "        k_ = k_spectral_angle_based(spectrum_value, centroids[i].reshape(1,-1))\n",
    "        k.append(k_)\n",
    "    \n",
    "    k = np.array(k).reshape(1,-1)\n",
    "    return k\n",
    "\n",
    "k_s = ks_kr(target_spectrum) # eqn 24\n",
    "print(\"k_s Shape:\", k_s.shape)\n",
    "\n",
    "# get the predictions. keeping it in RGB channel format for easy visulatization as Ground Truth RGB file\n",
    "predictions_spectral_angle = np.zeros((ROI.shape[0],ROI.shape[1],3))\n",
    "y_spectral_angle = []\n",
    "\n",
    "for i in range(ROI.shape[0]):\n",
    "    for j in range(ROI.shape[1]):\n",
    "        current_pixel_spectrum = ROI[i,j,:].reshape(1, -1)\n",
    "        k_r = ks_kr(ROI[i,j,:].reshape(1, -1)) # eqn 25 of paper\n",
    "        \n",
    "        y = ((k_s.dot(K_inv2)).dot(k_r.T))/((k_s.dot(K_inv2)).dot(k_s.T))       \n",
    "        y = y[0][0]\n",
    "        \n",
    "        y_spectral_angle.append(y)\n",
    "        \n",
    "        if y > 1 : # using this threshold value (1) after trying various other values\n",
    "            predictions_spectral_angle[i,j,:] = 1\n",
    "            \n",
    "plt.imshow(predictions_spectral_angle)\n",
    "plt.title(\"Kernsel Spectral Matched Filter (Spectral Angle)\")\n",
    "plt.savefig(\"./pics/KSMF_SpectralAngle.png\")"
   ]
  },
  {
   "cell_type": "markdown",
   "metadata": {},
   "source": [
    "<a id=\"section5\"></a>\n",
    "# 5. ROC"
   ]
  },
  {
   "cell_type": "code",
   "execution_count": 22,
   "metadata": {},
   "outputs": [
    {
     "data": {
      "image/png": "[encoded data removed]",
      "text/plain": [
       "<Figure size 432x288 with 1 Axes>"
      ]
     },
     "metadata": {
      "needs_background": "light"
     },
     "output_type": "display_data"
    }
   ],
   "source": [
    "def prepare_label_vector(arr_):\n",
    "    y = []\n",
    "    for i in range(arr_.shape[0]):\n",
    "        for j in range(arr_.shape[1]):\n",
    "            if np.sum(arr_[i, j, :]) == 0: # black pixels have lable 0\n",
    "                y.append(0)\n",
    "            else:\n",
    "                y.append(1) # white pixels have label 1\n",
    "    y = np.array(y).reshape(-1,1)\n",
    "    return y\n",
    "\n",
    "def plot_roc_curve(fpr, tpr, label=None):\n",
    "    plt.plot(fpr, tpr, linewidth=2, label=label)\n",
    "#     plt.plot([0, 1], [0, 1], 'k--') # Dashed diagonal\n",
    "    \n",
    "    \n",
    "y_GROUND_TRUTH   = prepare_label_vector(GT_RGB)\n",
    "y_MFD            = prepare_label_vector(predictions_MFD)\n",
    "y_gaussian       = prepare_label_vector(predictions_gaussian)\n",
    "y_poly           = prepare_label_vector(predictions_poly)\n",
    "y_spectral_angle = prepare_label_vector(predictions_spectral_angle)\n",
    "\n",
    "# using sklearn's roc_curve method to get FPR, TPR & Thresholds for each\n",
    "fpr_MFD, tpr_MFD, _                       = roc_curve(y_GROUND_TRUTH, y_MFD)\n",
    "fpr_gaussian, tpr_gaussian, _             = roc_curve(y_GROUND_TRUTH, y_gaussian)\n",
    "fpr_poly, tpr_poly, _                     = roc_curve(y_GROUND_TRUTH, y_poly)\n",
    "fpr_spectral_angle, tpr_spectral_angle,_  = roc_curve(y_GROUND_TRUTH, y_spectral_angle)\n",
    "\n",
    "\n",
    "plot_roc_curve(fpr_MFD, tpr_MFD, label=\"MFD\")\n",
    "plot_roc_curve(fpr_gaussian, tpr_gaussian, label=\"Gaussian Kernel\")\n",
    "plot_roc_curve(fpr_poly, tpr_poly, label=\"Polynoial Kernel\")\n",
    "plot_roc_curve(fpr_spectral_angle, tpr_spectral_angle, label=\"Spectral_Angle Kernel\")\n",
    "plt.xlabel(\"FPR (False Positive Rate)\")\n",
    "plt.ylabel(\"TPR (True Positive Rate)\")\n",
    "plt.legend()\n",
    "plt.title(\"ROC Curve\")\n",
    "plt.savefig(\"./pics/ROC.png\")"
   ]
  },
  {
   "cell_type": "code",
   "execution_count": null,
   "metadata": {},
   "outputs": [],
   "source": []
  }
 ],
 "metadata": {
  "kernelspec": {
   "display_name": "Python 3",
   "language": "python",
   "name": "python3"
  },
  "language_info": {
   "codemirror_mode": {
    "name": "ipython",
    "version": 3
   },
   "file_extension": ".py",
   "mimetype": "text/x-python",
   "name": "python",
   "nbconvert_exporter": "python",
   "pygments_lexer": "ipython3",
   "version": "3.7.3"
  }
 },
 "nbformat": 4,
 "nbformat_minor": 4
}
